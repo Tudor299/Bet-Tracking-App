{
 "cells": [
  {
   "cell_type": "code",
   "execution_count": 1,
   "id": "4a8c5677",
   "metadata": {
    "execution": {
     "iopub.execute_input": "2025-08-01T17:22:16.978960Z",
     "iopub.status.busy": "2025-08-01T17:22:16.978960Z",
     "iopub.status.idle": "2025-08-01T17:22:17.243102Z",
     "shell.execute_reply": "2025-08-01T17:22:17.243102Z"
    },
    "papermill": {
     "duration": 0.26905,
     "end_time": "2025-08-01T17:22:17.243102",
     "exception": false,
     "start_time": "2025-08-01T17:22:16.974052",
     "status": "completed"
    },
    "tags": []
   },
   "outputs": [],
   "source": [
    "import requests\n",
    "\n",
    "from bs4 import BeautifulSoup\n",
    "from datetime import datetime\n",
    "from openpyxl import load_workbook, Workbook\n",
    "from openpyxl.styles import Alignment, Font"
   ]
  },
  {
   "cell_type": "code",
   "execution_count": 2,
   "id": "29457013",
   "metadata": {
    "execution": {
     "iopub.execute_input": "2025-08-01T17:22:17.248412Z",
     "iopub.status.busy": "2025-08-01T17:22:17.248412Z",
     "iopub.status.idle": "2025-08-01T17:22:17.251611Z",
     "shell.execute_reply": "2025-08-01T17:22:17.251279Z"
    },
    "papermill": {
     "duration": 0.0062,
     "end_time": "2025-08-01T17:22:17.252613",
     "exception": false,
     "start_time": "2025-08-01T17:22:17.246413",
     "status": "completed"
    },
    "tags": []
   },
   "outputs": [],
   "source": [
    "#https://www.whatismybrowser.com/detect/what-http-headers-is-my-browser-sending/\n",
    "headers = {\n",
    "    \"User-Agent\": \"Mozilla/5.0 (Windows NT 10.0; Win64; x64) AppleWebKit/537.36 (KHTML, like Gecko) Chrome/131.0.0.0 Safari/537.36\"\n",
    "}"
   ]
  },
  {
   "cell_type": "markdown",
   "id": "0fa2ab82",
   "metadata": {
    "papermill": {
     "duration": 0.001001,
     "end_time": "2025-08-01T17:22:17.254613",
     "exception": false,
     "start_time": "2025-08-01T17:22:17.253612",
     "status": "completed"
    },
    "tags": []
   },
   "source": [
    "## Dictionary with team fixtures"
   ]
  },
  {
   "cell_type": "code",
   "execution_count": 3,
   "id": "53d3be55",
   "metadata": {
    "execution": {
     "iopub.execute_input": "2025-08-01T17:22:17.257613Z",
     "iopub.status.busy": "2025-08-01T17:22:17.257613Z",
     "iopub.status.idle": "2025-08-01T17:22:17.273620Z",
     "shell.execute_reply": "2025-08-01T17:22:17.273620Z"
    },
    "papermill": {
     "duration": 0.019059,
     "end_time": "2025-08-01T17:22:17.275672",
     "exception": false,
     "start_time": "2025-08-01T17:22:17.256613",
     "status": "completed"
    },
    "tags": []
   },
   "outputs": [],
   "source": [
    "premierLeague = {\n",
    "                \"Arsenal\" : \"https://www.transfermarkt.com/fc-arsenal/spielplan/verein/11/saison_id/2024\",\n",
    "                \"Chelsea\" : \"https://www.transfermarkt.com/fc-chelsea/spielplan/verein/631/saison_id/2024\",\n",
    "                \"Liverpool\" : \"https://www.transfermarkt.com/fc-liverpool/spielplan/verein/31/saison_id/2024\", \n",
    "                \"ManchesterUnited\" : \"https://www.transfermarkt.com/manchester-united/spielplan/verein/985/saison_id/2024\",\n",
    "                \"ManchesterCity\" : \"https://www.transfermarkt.com/manchester-city/spielplan/verein/281/saison_id/2024\"\n",
    "                }\n",
    "\n",
    "laLiga = {\n",
    "        \"AtleticoMadrid\" : \"https://www.transfermarkt.com/atletico-madrid/spielplan/verein/13/saison_id/2024\", \n",
    "        \"Barcelona\" : \"https://www.transfermarkt.com/fc-barcelona/spielplan/verein/131/saison_id/2024\",\n",
    "        \"RealMadrid\" : \"https://www.transfermarkt.com/real-madrid/spielplan/verein/418/saison_id/2024\"\n",
    "        }\n",
    "\n",
    "bundesLiga = {\n",
    "            \"BayerLevekusen\" : \"https://www.transfermarkt.com/bayer-04-leverkusen/spielplan/verein/15/saison_id/2024\",\n",
    "            \"BayernMunchen\" : \"https://www.transfermarkt.com/fc-bayern-munchen/spielplan/verein/27/saison_id/2024\", \n",
    "            \"BorussiaDortmund\" : \"https://www.transfermarkt.com/borussia-dortmund/spielplan/verein/16/saison_id/2024\", \n",
    "            \"Frankfurt\" : \"https://www.transfermarkt.com/eintracht-frankfurt/spielplan/verein/24/saison_id/2024\",\n",
    "            \"Mainz\" : \"https://www.transfermarkt.com/1-fsv-mainz-05/spielplan/verein/39/saison_id/2024\",\n",
    "            \"RBLeipzig\" : \"https://www.transfermarkt.com/rasenballsport-leipzig/spielplan/verein/23826/saison_id/2024\",\n",
    "            \"Stuttgart\" : \"https://www.transfermarkt.com/vfb-stuttgart/spielplan/verein/79/saison_id/2024\"\n",
    "            }\n",
    "\n",
    "serieA = {\n",
    "    \"ACMilan\" : \"https://www.transfermarkt.com/ac-mailand/spielplan/verein/5/saison_id/2024\", \n",
    "    \"Lazio\" : \"https://www.transfermarkt.com/lazio-rom/spielplan/verein/398/saison_id/2024\",\n",
    "    \"InterMilan\" : \"https://www.transfermarkt.com/inter-mailand/spielplan/verein/46/saison_id/2024\",\n",
    "    \"Juventus\" : \"https://www.transfermarkt.com/juventus-turin/spielplan/verein/506/saison_id/2024\",\n",
    "    \"Napoli\" : \"https://www.transfermarkt.com/ssc-neapel/spielplan/verein/6195/saison_id/2024\", \n",
    "    \"Roma\" : \"https://www.transfermarkt.com/as-rom/spielplan/verein/12/saison_id/2024\"\n",
    "        }   \n",
    "\n",
    "ligue1 = {\n",
    "        \"Lille\" : \"https://www.transfermarkt.com/losc-lille/spielplan/verein/1082/saison_id/2024\",\n",
    "        \"Lyon\" : \"https://www.transfermarkt.com/olympique-lyon/spielplan/verein/1041/saison_id/2024\",\n",
    "        \"Marseille\" : \"https://www.transfermarkt.com/olympique-marseille/spielplan/verein/244/saison_id/2024\",\n",
    "        \"Monaco\" : \"https://www.transfermarkt.com/as-monaco/spielplan/verein/162/saison_id/2024\",\n",
    "        \"Nice\" : \"https://www.transfermarkt.com/ogc-nizza/spielplan/verein/417/saison_id/2024\",\n",
    "        \"PSG\" : \"https://www.transfermarkt.com/fc-paris-saint-germain/spielplan/verein/583/saison_id/2024\"\n",
    "        }\n",
    "\n",
    "leagues ={\n",
    "        \"England\" : premierLeague,\n",
    "        \"Spain\" : laLiga,\n",
    "        \"Germany\" : bundesLiga,\n",
    "        \"Italy\" : serieA,\n",
    "        \"France\" : ligue1\n",
    "        }"
   ]
  },
  {
   "cell_type": "markdown",
   "id": "9c8303f5",
   "metadata": {
    "papermill": {
     "duration": 0.001,
     "end_time": "2025-08-01T17:22:17.277753",
     "exception": false,
     "start_time": "2025-08-01T17:22:17.276753",
     "status": "completed"
    },
    "tags": []
   },
   "source": [
    "## Generate new Excel sheet"
   ]
  },
  {
   "cell_type": "code",
   "execution_count": 4,
   "id": "d1119752",
   "metadata": {
    "execution": {
     "iopub.execute_input": "2025-08-01T17:22:17.281752Z",
     "iopub.status.busy": "2025-08-01T17:22:17.281752Z",
     "iopub.status.idle": "2025-08-01T17:22:17.303568Z",
     "shell.execute_reply": "2025-08-01T17:22:17.303568Z"
    },
    "papermill": {
     "duration": 0.023815,
     "end_time": "2025-08-01T17:22:17.303568",
     "exception": false,
     "start_time": "2025-08-01T17:22:17.279753",
     "status": "completed"
    },
    "tags": []
   },
   "outputs": [],
   "source": [
    "file_path = \"football_statistics.xlsx\"\n",
    "sheet_name = \"Generated\"\n",
    "wb = Workbook()\n",
    "wb.create_sheet(sheet_name)\n",
    "wb.remove(wb[\"Sheet\"])\n",
    "sheet=wb[sheet_name]\n",
    "sheet.freeze_panes = \"C2\"\n",
    "wb.save(file_path)"
   ]
  },
  {
   "cell_type": "markdown",
   "id": "d01d8dfb",
   "metadata": {
    "papermill": {
     "duration": 0.0,
     "end_time": "2025-08-01T17:22:17.303568",
     "exception": false,
     "start_time": "2025-08-01T17:22:17.303568",
     "status": "completed"
    },
    "tags": []
   },
   "source": [
    "## Function to retrieve data from TransferMarkt"
   ]
  },
  {
   "cell_type": "code",
   "execution_count": 5,
   "id": "65d9b686",
   "metadata": {
    "execution": {
     "iopub.execute_input": "2025-08-01T17:22:17.303568Z",
     "iopub.status.busy": "2025-08-01T17:22:17.303568Z",
     "iopub.status.idle": "2025-08-01T17:22:17.340817Z",
     "shell.execute_reply": "2025-08-01T17:22:17.340817Z"
    },
    "papermill": {
     "duration": 0.038883,
     "end_time": "2025-08-01T17:22:17.342451",
     "exception": false,
     "start_time": "2025-08-01T17:22:17.303568",
     "status": "completed"
    },
    "tags": []
   },
   "outputs": [],
   "source": [
    "def retrieve_data(index, link, sect):\n",
    "    wb = load_workbook(file_path)\n",
    "    sheet = wb[sheet_name]\n",
    "        \n",
    "    response = requests.get(link, headers=headers)\n",
    "    response.status_code\n",
    "    soup = BeautifulSoup(response.content, \"html.parser\")\n",
    "\n",
    "    section = soup.find('a', href=sect)\n",
    "    table = section.find_parent('thead').find_next_sibling('tbody')\n",
    "    data = [td.get_text(strip=True) for td in table.find_all('td', class_='zentriert')]\n",
    "\n",
    "    for i, value in enumerate(data[:12]):\n",
    "        if(value == '-'):\n",
    "            data[i] = 0\n",
    "\n",
    "    #compute each field\n",
    "    homeMatches = int(data[0])\n",
    "    homeWins = int(data[1])\n",
    "    homeWins_p = round(homeWins / homeMatches * 100, 2)\n",
    "    homeDraws = int(data[2])\n",
    "    homeDraws_p = round(homeDraws / homeMatches * 100, 2)\n",
    "    homeLosses = int(data[3])\n",
    "    homeLosses_p = round(homeLosses / homeMatches* 100 , 2)\n",
    "    homePoints = round(float(data[4]), 2)\n",
    "    homeGoals = data[5].split(\":\")\n",
    "    homeGoals_f = int(homeGoals[0])\n",
    "    homeGoals_f_v = round(homeGoals_f / homeMatches , 2)\n",
    "    homeGoals_a = int(homeGoals[1])\n",
    "    homeGoals_a_v = round(homeGoals_a / homeMatches, 2)\n",
    "    homeGD = homeGoals_f - homeGoals_a\n",
    "\n",
    "    awayMatches = int(data[6])\n",
    "    awayWins = int(data[7])\n",
    "    awayWins_p = round(awayWins / awayMatches * 100, 2)\n",
    "    awayDraws = int(data[8])\n",
    "    awayDraws_p = round(awayDraws / awayMatches * 100, 2)\n",
    "    awayLosses = int(data[9])\n",
    "    awayLosses_p = round(awayLosses / awayMatches* 100 , 2)\n",
    "    awayPoints = round(float(data[10]), 2)\n",
    "    awayGoals = data[11].split(\":\")\n",
    "    awayGoals_f = int(awayGoals[0])\n",
    "    awayGoals_f_v = round(awayGoals_f / awayMatches, 2)\n",
    "    awayGoals_a = int(awayGoals[1])\n",
    "    awayGoals_a_v = round(awayGoals_a / awayMatches, 2)\n",
    "    awayGD = awayGoals_f - awayGoals_a\n",
    "\n",
    "    totalMatches = homeMatches + awayMatches\n",
    "    totalWins = homeWins + awayWins\n",
    "    totalWins_p = round(totalWins / totalMatches * 100, 2)\n",
    "    totalDraws = homeDraws + awayDraws\n",
    "    totalDraws_p = round(totalDraws / totalMatches * 100 , 2)\n",
    "    totalLosses = homeLosses + awayLosses\n",
    "    totalLosses_p = round(totalLosses / totalMatches * 100, 2)\n",
    "    totalPoints = round((3 * totalWins + totalDraws) / totalMatches, 2)\n",
    "    totalGoals_f = homeGoals_f + awayGoals_f\n",
    "    totalGoals_f_v = round(totalGoals_f / totalMatches, 2)\n",
    "    totalGoals_a = homeGoals_a + awayGoals_a\n",
    "    totalGoals_a_v = round(totalGoals_a / totalMatches, 2)\n",
    "    totalGD = totalGoals_f - totalGoals_a\n",
    "\n",
    "    #update Excel\n",
    "    sheet[f\"C{index}\"] = homeMatches\n",
    "    sheet[f\"D{index}\"] = homeWins\n",
    "    sheet[f\"E{index}\"] = homeWins_p\n",
    "    sheet[f\"F{index}\"] = homeDraws\n",
    "    sheet[f\"G{index}\"] = homeDraws_p\n",
    "    sheet[f\"H{index}\"] = homeLosses\n",
    "    sheet[f\"I{index}\"] = homeLosses_p\n",
    "    sheet[f\"J{index}\"] = homePoints\n",
    "    sheet[f\"K{index}\"] = homeGoals_f\n",
    "    sheet[f\"L{index}\"] = homeGoals_f_v\n",
    "    sheet[f\"M{index}\"] = homeGoals_a\n",
    "    sheet[f\"N{index}\"] = homeGoals_a_v\n",
    "    sheet[f\"O{index}\"] = homeGD\n",
    "\n",
    "    sheet[f\"P{index}\"] = awayMatches\n",
    "    sheet[f\"Q{index}\"] = awayWins\n",
    "    sheet[f\"R{index}\"] = awayWins_p\n",
    "    sheet[f\"S{index}\"] = awayDraws\n",
    "    sheet[f\"T{index}\"] = awayDraws_p\n",
    "    sheet[f\"U{index}\"] = awayLosses\n",
    "    sheet[f\"V{index}\"] = awayLosses_p\n",
    "    sheet[f\"W{index}\"] = awayPoints\n",
    "    sheet[f\"X{index}\"] = awayGoals_f\n",
    "    sheet[f\"Y{index}\"] = awayGoals_f_v\n",
    "    sheet[f\"Z{index}\"] = awayGoals_a\n",
    "    sheet[f\"AA{index}\"] = awayGoals_a_v\n",
    "    sheet[f\"AB{index}\"] = awayGD\n",
    "\n",
    "    sheet[f\"AC{index}\"] = totalMatches\n",
    "    sheet[f\"AD{index}\"] = totalWins\n",
    "    sheet[f\"AE{index}\"] = totalWins_p\n",
    "    sheet[f\"AF{index}\"] = totalDraws\n",
    "    sheet[f\"AG{index}\"] = totalDraws_p\n",
    "    sheet[f\"AH{index}\"] = totalLosses\n",
    "    sheet[f\"AI{index}\"] = totalLosses_p\n",
    "    sheet[f\"AJ{index}\"] = totalPoints\n",
    "    sheet[f\"AK{index}\"] = totalGoals_f\n",
    "    sheet[f\"AL{index}\"] = totalGoals_f_v\n",
    "    sheet[f\"AM{index}\"] = totalGoals_a\n",
    "    sheet[f\"AN{index}\"] = totalGoals_a_v\n",
    "    sheet[f\"AO{index}\"] = totalGD\n",
    "\n",
    "    wb.save(file_path)"
   ]
  },
  {
   "cell_type": "markdown",
   "id": "902d3b14",
   "metadata": {
    "papermill": {
     "duration": 0.002002,
     "end_time": "2025-08-01T17:22:17.346457",
     "exception": false,
     "start_time": "2025-08-01T17:22:17.344455",
     "status": "completed"
    },
    "tags": []
   },
   "source": [
    "## Call function based on league"
   ]
  },
  {
   "cell_type": "code",
   "execution_count": 6,
   "id": "4a9a44c0",
   "metadata": {
    "execution": {
     "iopub.execute_input": "2025-08-01T17:22:17.350679Z",
     "iopub.status.busy": "2025-08-01T17:22:17.350679Z",
     "iopub.status.idle": "2025-08-01T17:23:02.427323Z",
     "shell.execute_reply": "2025-08-01T17:23:02.427323Z"
    },
    "papermill": {
     "duration": 45.078867,
     "end_time": "2025-08-01T17:23:02.427323",
     "exception": false,
     "start_time": "2025-08-01T17:22:17.348456",
     "status": "completed"
    },
    "tags": []
   },
   "outputs": [],
   "source": [
    "index = 2\n",
    "sect = \"\"\n",
    "\n",
    "for k,v in leagues.items():\n",
    "    for i in v:\n",
    "        if k == \"England\":\n",
    "            sect = \"/premier-league/startseite/wettbewerb/GB1/saison_id/2024\"\n",
    "        elif k == \"Spain\":\n",
    "            sect = \"/laliga/startseite/wettbewerb/ES1/saison_id/2024\"\n",
    "            if index == 2 + len(premierLeague):\n",
    "                index +=2\n",
    "        elif k == \"Germany\":\n",
    "            sect = \"/bundesliga/startseite/wettbewerb/L1/saison_id/2024\"\n",
    "            if index == 2 + len(premierLeague) + 2 + len(laLiga):\n",
    "                index += 2\n",
    "        elif k == \"Italy\":\n",
    "            sect = \"/serie-a/startseite/wettbewerb/IT1/saison_id/2024\"\n",
    "            if index == 2 + len(premierLeague) + 2 + len(laLiga) + 2 + len(bundesLiga):\n",
    "                index += 2\n",
    "        elif k == \"France\":\n",
    "            sect = \"/ligue-1/startseite/wettbewerb/FR1/saison_id/2024\"\n",
    "            if index == 2 + len(premierLeague) + 2 + len(laLiga) + 2 + len(bundesLiga) + 2 + len(serieA):\n",
    "                index += 2\n",
    "        retrieve_data(index, v[i], sect)\n",
    "        index +=1"
   ]
  },
  {
   "cell_type": "markdown",
   "id": "ac49dbfb",
   "metadata": {
    "papermill": {
     "duration": 0.0,
     "end_time": "2025-08-01T17:23:02.427323",
     "exception": false,
     "start_time": "2025-08-01T17:23:02.427323",
     "status": "completed"
    },
    "tags": []
   },
   "source": [
    "## Populate Excel sheet with team names and metrics"
   ]
  },
  {
   "cell_type": "code",
   "execution_count": 7,
   "id": "97de8356",
   "metadata": {
    "execution": {
     "iopub.execute_input": "2025-08-01T17:23:02.435864Z",
     "iopub.status.busy": "2025-08-01T17:23:02.435864Z",
     "iopub.status.idle": "2025-08-01T17:23:02.628720Z",
     "shell.execute_reply": "2025-08-01T17:23:02.628317Z"
    },
    "papermill": {
     "duration": 0.202439,
     "end_time": "2025-08-01T17:23:02.629762",
     "exception": false,
     "start_time": "2025-08-01T17:23:02.427323",
     "status": "completed"
    },
    "tags": []
   },
   "outputs": [],
   "source": [
    "wb = load_workbook(file_path)\n",
    "sheet = wb[sheet_name]\n",
    "\n",
    "for row in range(1,sheet.max_row + 1):\n",
    "    for col in range(1, sheet.max_column + 1):\n",
    "        sheet.cell(row,col).font = Font(name='Helvetica', size=12, bold=True, color = '000000')\n",
    "        sheet.cell(row,col).alignment = Alignment(horizontal='center', vertical='center')\n",
    "        \n",
    "\n",
    "sheet[\"A1\"] = \"Premier League\"\n",
    "sheet[\"B1\"] = \"Season\"\n",
    "sheet[\"C1\"] = \"Home matches\"\n",
    "sheet[\"D1\"] = \"Home wins\"\n",
    "sheet[\"E1\"] = \"%\"\n",
    "sheet[\"F1\"] = \"Home draws\"\n",
    "sheet[\"G1\"] = \"%\"\n",
    "sheet[\"H1\"] = \"Home losses\"\n",
    "sheet[\"I1\"] = \"%\"\n",
    "sheet[\"J1\"] = \"Home points / match\"\n",
    "sheet[\"K1\"] = \"Home goals scored\"\n",
    "sheet[\"L1\"] = \" / match\"\n",
    "sheet[\"M1\"] = \"Home goals conceded\"\n",
    "sheet[\"N1\"] = \" / match\"\n",
    "sheet[\"O1\"] = \"Home goal difference\"\n",
    "sheet[\"P1\"] = \"Away matches\"\n",
    "sheet[\"Q1\"] = \"Away wins\"\n",
    "sheet[\"R1\"] = \"%\"\n",
    "sheet[\"S1\"] = \"Away draws\"\n",
    "sheet[\"T1\"] = \"%\"\n",
    "sheet[\"U1\"] = \"Aways losses\"\n",
    "sheet[\"V1\"] = \"%\"\n",
    "sheet[\"W1\"] = \"Aways points / match\"\n",
    "sheet[\"X1\"] = \"Aways goals scored\"\n",
    "sheet[\"Y1\"] = \" / match\"\n",
    "sheet[\"Z1\"] = \"Away goals conceded\"\n",
    "sheet[\"AA1\"] = \" / match\"\n",
    "sheet[\"AB1\"] = \"Away home difference\"\n",
    "sheet[\"AC1\"] = \"Total matches\"\n",
    "sheet[\"AD1\"] = \"Total wins\"\n",
    "sheet[\"AE1\"] = \"%\"\n",
    "sheet[\"AF1\"] = \"Total draws\"\n",
    "sheet[\"AG1\"] = \"%\"\n",
    "sheet[\"AH1\"] = \"Total losses\"\n",
    "sheet[\"AI1\"] = \"%\"\n",
    "sheet[\"AJ1\"] = \"Total points / match\"\n",
    "sheet[\"AK1\"] = \"Total goals scored\"\n",
    "sheet[\"AL1\"] = \" / match\"\n",
    "sheet[\"AM1\"] = \"Total goals conceded\"\n",
    "sheet[\"AN1\"] = \" / match\"\n",
    "sheet[\"AO1\"] = \"Total goal difference\"\n",
    "\n",
    "index = 2\n",
    "\n",
    "for k,v in leagues.items():\n",
    "    for i in v:\n",
    "        if k == \"England\":\n",
    "            sect = \"/premier-league/startseite/wettbewerb/GB1/saison_id/2024\"\n",
    "        elif k == \"Spain\":\n",
    "            if index == 2 + len(premierLeague):\n",
    "                sheet[f\"A{index+1}\"] = \"La Liga\"\n",
    "                index +=2\n",
    "        elif k == \"Germany\":\n",
    "            if index == 2 + len(premierLeague) + 2 + len(laLiga):\n",
    "                sheet[f\"A{index+1}\"] = \"Bundesliga\"\n",
    "                index += 2\n",
    "        elif k == \"Italy\":\n",
    "            if index == 2 + len(premierLeague) + 2 + len(laLiga) + 2 + len(bundesLiga):\n",
    "                sheet[f\"A{index+1}\"] = \"Serie A\"\n",
    "                index += 2\n",
    "        elif k == \"France\":\n",
    "            if index == 2 + len(premierLeague) + 2 + len(laLiga) + 2 + len(bundesLiga) + 2 + len(serieA):\n",
    "                sheet[f\"A{index+1}\"] = \"Ligue 1\"\n",
    "                index += 2\n",
    "        sheet[f\"A{index}\"] = i\n",
    "        sheet[f\"B{index}\"] = \"2024/2025\"\n",
    "        index +=1\n",
    "\n",
    "for col in sheet.columns:\n",
    "     max_width = 0\n",
    "     column = col[0].column_letter\n",
    "     for cell in col:\n",
    "             if len(str(cell.value)) > max_width:\n",
    "                 max_width = len(str(cell.value))\n",
    "     set_col_width = max_width + 7\n",
    "     sheet.column_dimensions[column].width = set_col_width\n",
    "     \n",
    "wb.save(file_path)"
   ]
  }
 ],
 "metadata": {
  "kernelspec": {
   "display_name": "base",
   "language": "python",
   "name": "python3"
  },
  "language_info": {
   "codemirror_mode": {
    "name": "ipython",
    "version": 3
   },
   "file_extension": ".py",
   "mimetype": "text/x-python",
   "name": "python",
   "nbconvert_exporter": "python",
   "pygments_lexer": "ipython3",
   "version": "3.10.0"
  },
  "papermill": {
   "default_parameters": {},
   "duration": 47.042494,
   "end_time": "2025-08-01T17:23:02.865702",
   "environment_variables": {},
   "exception": null,
   "input_path": "TM_Data.ipynb",
   "output_path": "executed_TM_Data.ipynb",
   "parameters": {},
   "start_time": "2025-08-01T17:22:15.823208",
   "version": "2.6.0"
  }
 },
 "nbformat": 4,
 "nbformat_minor": 5
}